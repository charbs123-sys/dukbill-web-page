{
 "cells": [
  {
   "cell_type": "code",
   "execution_count": 1,
   "id": "6bc3df79",
   "metadata": {},
   "outputs": [
    {
     "data": {
      "text/plain": [
       "True"
      ]
     },
     "execution_count": 1,
     "metadata": {},
     "output_type": "execute_result"
    }
   ],
   "source": [
    "import os\n",
    "import time\n",
    "import base64\n",
    "import secrets\n",
    "from typing import Dict, Any, Optional\n",
    "from urllib.parse import urlencode\n",
    "\n",
    "import requests\n",
    "from dotenv import load_dotenv\n",
    "from fastapi import FastAPI, Request, HTTPException\n",
    "from fastapi.responses import RedirectResponse, JSONResponse\n",
    "from fastapi.middleware.cors import CORSMiddleware\n",
    "from jose import jwt\n",
    "\n",
    "load_dotenv()\n"
   ]
  },
  {
   "cell_type": "code",
   "execution_count": 2,
   "id": "1e28fd11",
   "metadata": {},
   "outputs": [],
   "source": [
    "# --- Required env (keep names EXACTLY as requested) ---\n",
    "XERO_CLIENT_ID = os.environ[\"XERO_CLIENT_ID\"]\n",
    "XERO_CLIENT_SECRET = os.environ[\"XERO_CLIENT_SECRET\"]\n",
    "XERO_REDIRECT_URI = os.environ[\"XERO_REDIRECT_URI\"]\n",
    "\n",
    "# --- OpenID Discovery (once at startup) ---\n",
    "DISCOVERY_URL = \"https://identity.xero.com/.well-known/openid-configuration\"\n",
    "_disc = requests.get(DISCOVERY_URL, timeout=10).json()\n",
    "AUTHORIZATION_ENDPOINT = _disc[\"authorization_endpoint\"]\n",
    "TOKEN_ENDPOINT = _disc[\"token_endpoint\"]\n",
    "JWKS_URI = _disc[\"jwks_uri\"]\n",
    "ISSUER = _disc[\"issuer\"]\n",
    "\n",
    "# --- Minimal in-memory stores (replace later with Redis/DB if needed) ---\n",
    "SESS: Dict[str, Dict[str, Any]] = {}   # sid -> {state, nonce, ts}\n",
    "JWKS_CACHE: Dict[str, Any] = {}\n",
    "JWKS_TS = 0"
   ]
  },
  {
   "cell_type": "code",
   "execution_count": 3,
   "id": "f7d34534",
   "metadata": {},
   "outputs": [],
   "source": [
    "SCOPES = \"openid profile email\"\n",
    "\n",
    "\n",
    "def _basic_auth() -> str:\n",
    "    return base64.b64encode(f\"{XERO_CLIENT_ID}:{XERO_CLIENT_SECRET}\".encode()).decode()\n",
    "\n",
    "\n",
    "def _get_jwks() -> Dict[str, Any]:\n",
    "    global JWKS_CACHE, JWKS_TS\n",
    "    if not JWKS_CACHE or (time.time() - JWKS_TS) > 6 * 3600:\n",
    "        JWKS_CACHE = requests.get(JWKS_URI, timeout=10).json()\n",
    "        JWKS_TS = time.time()\n",
    "    return JWKS_CACHE\n",
    "\n",
    "\n",
    "def _pick_jwk_for_kid(jwks: Dict[str, Any], kid: Optional[str]) -> Dict[str, Any]:\n",
    "    keys = jwks.get(\"keys\", [])\n",
    "    for k in keys:\n",
    "        if k.get(\"kid\") == kid:\n",
    "            return k\n",
    "    raise HTTPException(401, \"Signing key not found for token kid\")"
   ]
  },
  {
   "cell_type": "code",
   "execution_count": 7,
   "id": "b00a48ba",
   "metadata": {},
   "outputs": [],
   "source": [
    "def signin_xero():\n",
    "    # Create short-lived state in a cookie-backed session\n",
    "    sid = secrets.token_urlsafe(32)\n",
    "    state = secrets.token_urlsafe(24)\n",
    "    nonce = secrets.token_urlsafe(24)\n",
    "    SESS[sid] = {\"state\": state, \"nonce\": nonce, \"ts\": time.time()}\n",
    "\n",
    "    params = {\n",
    "        \"response_type\": \"code\",\n",
    "        \"client_id\": XERO_CLIENT_ID,\n",
    "        \"redirect_uri\": XERO_REDIRECT_URI,\n",
    "        \"scope\": SCOPES,\n",
    "        \"state\": state,\n",
    "        \"nonce\": nonce,\n",
    "    }\n",
    "    url = f\"{AUTHORIZATION_ENDPOINT}?{urlencode(params)}\"\n",
    "    print(url)\n",
    "    resp = RedirectResponse(url, status_code=302)\n",
    "    # Basic cookie for correlating callback (use Secure/HttpOnly/SameSite in prod)\n",
    "    resp.set_cookie(\"sid\", sid, httponly=True, secure=True, samesite=\"lax\", max_age=900)\n",
    "    return resp"
   ]
  },
  {
   "cell_type": "code",
   "execution_count": 8,
   "id": "2b69de15",
   "metadata": {},
   "outputs": [
    {
     "name": "stdout",
     "output_type": "stream",
     "text": [
      "https://login.xero.com/identity/connect/authorize?response_type=code&client_id=6A9419DCCD29452A922631458D1B4420&redirect_uri=http%3A%2F%2F127.0.0.1%3A8765%2Fcallback&scope=openid+profile+email&state=frkjRolnL0qoHCd6HJOcYQLtrNGNFCJj&nonce=Xbcqt7qiwa25-dxHe6VAYCkrGib363HF\n"
     ]
    }
   ],
   "source": [
    "redirect = signin_xero()"
   ]
  },
  {
   "cell_type": "code",
   "execution_count": 5,
   "id": "8ba9c08d",
   "metadata": {},
   "outputs": [],
   "source": [
    "def callback_xero(request: Request, code: str = \"\", state: str = \"\"):\n",
    "    # 1) Validate state/session\n",
    "    sid = request.cookies.get(\"sid\")\n",
    "    sess = SESS.get(sid or \"\", {})\n",
    "    if not sid or not sess or state != sess.get(\"state\"):\n",
    "        raise HTTPException(400, \"Invalid session/state\")\n",
    "\n",
    "    # 2) Exchange code for tokens\n",
    "    tok = requests.post(\n",
    "        TOKEN_ENDPOINT,\n",
    "        headers={\n",
    "            \"Authorization\": f\"Basic {_basic_auth()}\",\n",
    "            \"Content-Type\": \"application/x-www-form-urlencoded\",\n",
    "        },\n",
    "        data={\n",
    "            \"grant_type\": \"authorization_code\",\n",
    "            \"code\": code,\n",
    "            \"redirect_uri\": XERO_REDIRECT_URI,\n",
    "        },\n",
    "        timeout=10,\n",
    "    )\n",
    "    if tok.status_code != 200:\n",
    "        raise HTTPException(400, f\"Token exchange failed: {tok.text}\")\n",
    "    token_set = tok.json()\n",
    "    id_token = token_set.get(\"id_token\")\n",
    "    if not id_token:\n",
    "        raise HTTPException(400, \"No ID token in response\")\n",
    "\n",
    "    # 3) Verify ID token (RS256 using JWKS)\n",
    "    #    - Parse header to get kid, select corresponding JWK\n",
    "    try:\n",
    "        unverified_header = jwt.get_unverified_header(id_token)\n",
    "        kid = unverified_header.get(\"kid\")\n",
    "        jwk = _pick_jwk_for_kid(_get_jwks(), kid)\n",
    "\n",
    "        claims = jwt.decode(\n",
    "            id_token,\n",
    "            jwk,                       # pass the selected JWK\n",
    "            algorithms=[\"RS256\"],\n",
    "            audience=XERO_CLIENT_ID,\n",
    "            issuer=ISSUER,\n",
    "            options={\"verify_at_hash\": False},\n",
    "        )\n",
    "    except Exception as e:\n",
    "        raise HTTPException(401, f\"Invalid ID token: {e}\")\n",
    "\n",
    "    # 4) Verify nonce\n",
    "    if claims.get(\"nonce\") != sess.get(\"nonce\"):\n",
    "        raise HTTPException(401, \"Nonce mismatch\")\n",
    "\n",
    "    # 5) Extract identity (you can now create/find your user)\n",
    "    identity = {\n",
    "        \"sub\": claims.get(\"sub\"),\n",
    "        \"email\": claims.get(\"email\"),\n",
    "        \"given_name\": claims.get(\"given_name\"),\n",
    "        \"family_name\": claims.get(\"family_name\"),\n",
    "        \"iat\": claims.get(\"iat\"),\n",
    "        \"exp\": claims.get(\"exp\"),\n",
    "        \"iss\": claims.get(\"iss\"),\n",
    "        \"aud\": claims.get(\"aud\"),\n",
    "    }\n",
    "\n",
    "    # Clear transient session\n",
    "    SESS.pop(sid, None)\n",
    "\n",
    "    # For minimal SSO, just return identity JSON (or redirect to your frontend)\n",
    "    return JSONResponse({\"status\": \"sso_ok\", \"provider\": \"xero\", \"identity\": identity})"
   ]
  }
 ],
 "metadata": {
  "kernelspec": {
   "display_name": "Python 3",
   "language": "python",
   "name": "python3"
  },
  "language_info": {
   "codemirror_mode": {
    "name": "ipython",
    "version": 3
   },
   "file_extension": ".py",
   "mimetype": "text/x-python",
   "name": "python",
   "nbconvert_exporter": "python",
   "pygments_lexer": "ipython3",
   "version": "3.12.2"
  }
 },
 "nbformat": 4,
 "nbformat_minor": 5
}
